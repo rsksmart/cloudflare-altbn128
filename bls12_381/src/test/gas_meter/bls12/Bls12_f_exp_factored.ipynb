{
 "cells": [
  {
   "cell_type": "markdown",
   "metadata": {},
   "source": [
    "Perform multivariate fit for BLS12 curves. Base parameters are number of limbs, number of bits in `x` parameter that generates the curve and hamming weight of `x`."
   ]
  },
  {
   "cell_type": "code",
   "execution_count": 1,
   "metadata": {},
   "outputs": [
    {
     "data": {
      "text/html": [
       "<div>\n",
       "<style scoped>\n",
       "    .dataframe tbody tr th:only-of-type {\n",
       "        vertical-align: middle;\n",
       "    }\n",
       "\n",
       "    .dataframe tbody tr th {\n",
       "        vertical-align: top;\n",
       "    }\n",
       "\n",
       "    .dataframe thead th {\n",
       "        text-align: right;\n",
       "    }\n",
       "</style>\n",
       "<table border=\"1\" class=\"dataframe\">\n",
       "  <thead>\n",
       "    <tr style=\"text-align: right;\">\n",
       "      <th></th>\n",
       "      <th>x_bit_length</th>\n",
       "      <th>x_hamming_weight</th>\n",
       "      <th>modulus_limbs</th>\n",
       "      <th>num_pairs</th>\n",
       "      <th>run_microseconds</th>\n",
       "    </tr>\n",
       "  </thead>\n",
       "  <tbody>\n",
       "    <tr>\n",
       "      <th>1</th>\n",
       "      <td>128</td>\n",
       "      <td>89</td>\n",
       "      <td>15</td>\n",
       "      <td>2</td>\n",
       "      <td>109252</td>\n",
       "    </tr>\n",
       "    <tr>\n",
       "      <th>3</th>\n",
       "      <td>128</td>\n",
       "      <td>89</td>\n",
       "      <td>15</td>\n",
       "      <td>4</td>\n",
       "      <td>164052</td>\n",
       "    </tr>\n",
       "    <tr>\n",
       "      <th>5</th>\n",
       "      <td>128</td>\n",
       "      <td>89</td>\n",
       "      <td>15</td>\n",
       "      <td>6</td>\n",
       "      <td>211699</td>\n",
       "    </tr>\n",
       "    <tr>\n",
       "      <th>7</th>\n",
       "      <td>78</td>\n",
       "      <td>71</td>\n",
       "      <td>13</td>\n",
       "      <td>2</td>\n",
       "      <td>63639</td>\n",
       "    </tr>\n",
       "    <tr>\n",
       "      <th>9</th>\n",
       "      <td>78</td>\n",
       "      <td>71</td>\n",
       "      <td>13</td>\n",
       "      <td>4</td>\n",
       "      <td>91392</td>\n",
       "    </tr>\n",
       "  </tbody>\n",
       "</table>\n",
       "</div>"
      ],
      "text/plain": [
       "   x_bit_length  x_hamming_weight  modulus_limbs  num_pairs  run_microseconds\n",
       "1           128                89             15          2            109252\n",
       "3           128                89             15          4            164052\n",
       "5           128                89             15          6            211699\n",
       "7            78                71             13          2             63639\n",
       "9            78                71             13          4             91392"
      ]
     },
     "execution_count": 1,
     "metadata": {},
     "output_type": "execute_result"
    }
   ],
   "source": [
    "import pandas as pd\n",
    "from sklearn.preprocessing import PolynomialFeatures\n",
    "from sklearn.linear_model import LinearRegression\n",
    "from sklearn.pipeline import Pipeline\n",
    "import numpy as np\n",
    "\n",
    "df = pd.read_csv(\"monte_carlo_f_exp.csv\")\n",
    "df = df[df[\"x_is_negative\"] == 1.0]\n",
    "df.drop(\"x_is_negative\", axis = 1, inplace = True)\n",
    "\n",
    "df.head(5)"
   ]
  },
  {
   "cell_type": "code",
   "execution_count": 2,
   "metadata": {},
   "outputs": [],
   "source": [
    "from sklearn import linear_model\n",
    "\n",
    "df_final_exps = pd.DataFrame(columns = df.columns);\n",
    "df_final_exps.drop(\"num_pairs\", axis = 1, inplace = True);\n",
    "df_final_exps.drop(\"run_microseconds\", axis = 1, inplace = True);\n",
    "df_final_exps[\"final_exp_time\"] = 0.0\n",
    "\n",
    "df_miller_loops = pd.DataFrame(columns = df.columns);\n",
    "df_miller_loops.drop(\"num_pairs\", axis = 1, inplace = True);\n",
    "df_miller_loops.drop(\"run_microseconds\", axis = 1, inplace = True);\n",
    "df_miller_loops[\"single_pair_miller_time\"] = 0.0\n",
    "\n",
    "\n",
    "for k,g in df.groupby(np.arange(len(df))//3):\n",
    "    reg = linear_model.LinearRegression(fit_intercept = True)\n",
    "    model = reg.fit(g[\"num_pairs\"][:, np.newaxis], g[\"run_microseconds\"][:, np.newaxis])\n",
    "#     score = model.score(g[\"num_pairs\"][:, np.newaxis], g[\"run_microseconds\"][:, np.newaxis])\n",
    "#     if score < 0.9:\n",
    "#         print(g)\n",
    "#         print(model.coef_[0][0])\n",
    "#         print(model.intercept_[0])\n",
    "#         print(score)\n",
    "#     assert(model.score(g[\"num_pairs\"][:, np.newaxis], g[\"run_microseconds\"][:, np.newaxis]) > 0.9)\n",
    "    g_miller = g.iloc[0].copy()\n",
    "    g_miller.drop(\"run_microseconds\", inplace = True)\n",
    "    g_final_exp = g.iloc[0].copy()\n",
    "    g_final_exp.drop(\"run_microseconds\", inplace = True)\n",
    "    g_miller[\"single_pair_miller_time\"] = model.coef_[0][0];\n",
    "    g_final_exp[\"final_exp_time\"] = model.intercept_[0];\n",
    "    \n",
    "    g_miller.drop(\"num_pairs\", inplace = True)\n",
    "    g_final_exp.drop(\"num_pairs\", inplace = True)\n",
    "    \n",
    "    df_miller_loops = df_miller_loops.append(g_miller, verify_integrity=True)\n",
    "    df_final_exps = df_final_exps.append(g_final_exp, verify_integrity=True)"
   ]
  },
  {
   "cell_type": "code",
   "execution_count": 3,
   "metadata": {},
   "outputs": [
    {
     "data": {
      "text/html": [
       "<div>\n",
       "<style scoped>\n",
       "    .dataframe tbody tr th:only-of-type {\n",
       "        vertical-align: middle;\n",
       "    }\n",
       "\n",
       "    .dataframe tbody tr th {\n",
       "        vertical-align: top;\n",
       "    }\n",
       "\n",
       "    .dataframe thead th {\n",
       "        text-align: right;\n",
       "    }\n",
       "</style>\n",
       "<table border=\"1\" class=\"dataframe\">\n",
       "  <thead>\n",
       "    <tr style=\"text-align: right;\">\n",
       "      <th></th>\n",
       "      <th>x_bit_length</th>\n",
       "      <th>x_hamming_weight</th>\n",
       "      <th>modulus_limbs</th>\n",
       "      <th>single_pair_miller_time</th>\n",
       "    </tr>\n",
       "  </thead>\n",
       "  <tbody>\n",
       "    <tr>\n",
       "      <th>1</th>\n",
       "      <td>128.0</td>\n",
       "      <td>89.0</td>\n",
       "      <td>15.0</td>\n",
       "      <td>25611.75</td>\n",
       "    </tr>\n",
       "    <tr>\n",
       "      <th>7</th>\n",
       "      <td>78.0</td>\n",
       "      <td>71.0</td>\n",
       "      <td>13.0</td>\n",
       "      <td>15335.00</td>\n",
       "    </tr>\n",
       "    <tr>\n",
       "      <th>13</th>\n",
       "      <td>111.0</td>\n",
       "      <td>76.0</td>\n",
       "      <td>8.0</td>\n",
       "      <td>4508.00</td>\n",
       "    </tr>\n",
       "    <tr>\n",
       "      <th>19</th>\n",
       "      <td>108.0</td>\n",
       "      <td>92.0</td>\n",
       "      <td>10.0</td>\n",
       "      <td>6113.75</td>\n",
       "    </tr>\n",
       "    <tr>\n",
       "      <th>25</th>\n",
       "      <td>84.0</td>\n",
       "      <td>6.0</td>\n",
       "      <td>13.0</td>\n",
       "      <td>12843.50</td>\n",
       "    </tr>\n",
       "  </tbody>\n",
       "</table>\n",
       "</div>"
      ],
      "text/plain": [
       "    x_bit_length  x_hamming_weight  modulus_limbs  single_pair_miller_time\n",
       "1          128.0              89.0           15.0                 25611.75\n",
       "7           78.0              71.0           13.0                 15335.00\n",
       "13         111.0              76.0            8.0                  4508.00\n",
       "19         108.0              92.0           10.0                  6113.75\n",
       "25          84.0               6.0           13.0                 12843.50"
      ]
     },
     "execution_count": 3,
     "metadata": {},
     "output_type": "execute_result"
    }
   ],
   "source": [
    "df_miller_loops.head(5)"
   ]
  },
  {
   "cell_type": "code",
   "execution_count": 4,
   "metadata": {
    "scrolled": true
   },
   "outputs": [
    {
     "data": {
      "text/html": [
       "<div>\n",
       "<style scoped>\n",
       "    .dataframe tbody tr th:only-of-type {\n",
       "        vertical-align: middle;\n",
       "    }\n",
       "\n",
       "    .dataframe tbody tr th {\n",
       "        vertical-align: top;\n",
       "    }\n",
       "\n",
       "    .dataframe thead th {\n",
       "        text-align: right;\n",
       "    }\n",
       "</style>\n",
       "<table border=\"1\" class=\"dataframe\">\n",
       "  <thead>\n",
       "    <tr style=\"text-align: right;\">\n",
       "      <th></th>\n",
       "      <th>x_bit_length</th>\n",
       "      <th>x_hamming_weight</th>\n",
       "      <th>modulus_limbs</th>\n",
       "      <th>final_exp_time</th>\n",
       "    </tr>\n",
       "  </thead>\n",
       "  <tbody>\n",
       "    <tr>\n",
       "      <th>1</th>\n",
       "      <td>128.0</td>\n",
       "      <td>89.0</td>\n",
       "      <td>15.0</td>\n",
       "      <td>59220.666667</td>\n",
       "    </tr>\n",
       "    <tr>\n",
       "      <th>7</th>\n",
       "      <td>78.0</td>\n",
       "      <td>71.0</td>\n",
       "      <td>13.0</td>\n",
       "      <td>31996.666667</td>\n",
       "    </tr>\n",
       "    <tr>\n",
       "      <th>13</th>\n",
       "      <td>111.0</td>\n",
       "      <td>76.0</td>\n",
       "      <td>8.0</td>\n",
       "      <td>12711.666667</td>\n",
       "    </tr>\n",
       "    <tr>\n",
       "      <th>19</th>\n",
       "      <td>108.0</td>\n",
       "      <td>92.0</td>\n",
       "      <td>10.0</td>\n",
       "      <td>33330.666667</td>\n",
       "    </tr>\n",
       "    <tr>\n",
       "      <th>25</th>\n",
       "      <td>84.0</td>\n",
       "      <td>6.0</td>\n",
       "      <td>13.0</td>\n",
       "      <td>27740.000000</td>\n",
       "    </tr>\n",
       "  </tbody>\n",
       "</table>\n",
       "</div>"
      ],
      "text/plain": [
       "    x_bit_length  x_hamming_weight  modulus_limbs  final_exp_time\n",
       "1          128.0              89.0           15.0    59220.666667\n",
       "7           78.0              71.0           13.0    31996.666667\n",
       "13         111.0              76.0            8.0    12711.666667\n",
       "19         108.0              92.0           10.0    33330.666667\n",
       "25          84.0               6.0           13.0    27740.000000"
      ]
     },
     "execution_count": 4,
     "metadata": {},
     "output_type": "execute_result"
    }
   ],
   "source": [
    "df_final_exps.head(5)"
   ]
  },
  {
   "cell_type": "markdown",
   "metadata": {},
   "source": [
    "Fit final exponentiation only"
   ]
  },
  {
   "cell_type": "code",
   "execution_count": 5,
   "metadata": {},
   "outputs": [
    {
     "name": "stdout",
     "output_type": "stream",
     "text": [
      "Train set size 4498\n",
      "Test set size 500\n"
     ]
    },
    {
     "data": {
      "text/html": [
       "<div>\n",
       "<style scoped>\n",
       "    .dataframe tbody tr th:only-of-type {\n",
       "        vertical-align: middle;\n",
       "    }\n",
       "\n",
       "    .dataframe tbody tr th {\n",
       "        vertical-align: top;\n",
       "    }\n",
       "\n",
       "    .dataframe thead th {\n",
       "        text-align: right;\n",
       "    }\n",
       "</style>\n",
       "<table border=\"1\" class=\"dataframe\">\n",
       "  <thead>\n",
       "    <tr style=\"text-align: right;\">\n",
       "      <th></th>\n",
       "      <th>x_bit_length</th>\n",
       "      <th>x_hamming_weight</th>\n",
       "      <th>modulus_limbs</th>\n",
       "      <th>final_exp_time</th>\n",
       "    </tr>\n",
       "  </thead>\n",
       "  <tbody>\n",
       "    <tr>\n",
       "      <th>505</th>\n",
       "      <td>109.0</td>\n",
       "      <td>1.0</td>\n",
       "      <td>10.0</td>\n",
       "      <td>18808.333333</td>\n",
       "    </tr>\n",
       "    <tr>\n",
       "      <th>14821</th>\n",
       "      <td>7.0</td>\n",
       "      <td>4.0</td>\n",
       "      <td>4.0</td>\n",
       "      <td>1846.000000</td>\n",
       "    </tr>\n",
       "    <tr>\n",
       "      <th>16819</th>\n",
       "      <td>73.0</td>\n",
       "      <td>51.0</td>\n",
       "      <td>6.0</td>\n",
       "      <td>7294.666667</td>\n",
       "    </tr>\n",
       "    <tr>\n",
       "      <th>29917</th>\n",
       "      <td>51.0</td>\n",
       "      <td>9.0</td>\n",
       "      <td>16.0</td>\n",
       "      <td>68019.000000</td>\n",
       "    </tr>\n",
       "    <tr>\n",
       "      <th>29539</th>\n",
       "      <td>119.0</td>\n",
       "      <td>93.0</td>\n",
       "      <td>6.0</td>\n",
       "      <td>9587.333333</td>\n",
       "    </tr>\n",
       "  </tbody>\n",
       "</table>\n",
       "</div>"
      ],
      "text/plain": [
       "       x_bit_length  x_hamming_weight  modulus_limbs  final_exp_time\n",
       "505           109.0               1.0           10.0    18808.333333\n",
       "14821           7.0               4.0            4.0     1846.000000\n",
       "16819          73.0              51.0            6.0     7294.666667\n",
       "29917          51.0               9.0           16.0    68019.000000\n",
       "29539         119.0              93.0            6.0     9587.333333"
      ]
     },
     "execution_count": 5,
     "metadata": {},
     "output_type": "execute_result"
    }
   ],
   "source": [
    "from sklearn.model_selection import train_test_split\n",
    "\n",
    "train, test = train_test_split(\n",
    "    df_final_exps, test_size=0.10, random_state=42)\n",
    "\n",
    "print(\"Train set size {}\".format(len(train)))\n",
    "print(\"Test set size {}\".format(len(test)))\n",
    "\n",
    "test.head(5)"
   ]
  },
  {
   "cell_type": "code",
   "execution_count": 6,
   "metadata": {
    "scrolled": true
   },
   "outputs": [
    {
     "name": "stdout",
     "output_type": "stream",
     "text": [
      "0.9356652225936256\n",
      "0.9326916180481005\n"
     ]
    }
   ],
   "source": [
    "from sklearn import linear_model\n",
    "\n",
    "poly = PolynomialFeatures(degree=6, include_bias = False)\n",
    "# poly = PolynomialFeatures(degree=6, include_bias = True)\n",
    "\n",
    "X_train = train[[\"x_bit_length\", \"x_hamming_weight\", \"modulus_limbs\"]]\n",
    "Y_train = train[\"final_exp_time\"]\n",
    "\n",
    "X_train = poly.fit_transform(X_train)\n",
    "\n",
    "from sklearn import linear_model\n",
    "from sklearn.linear_model import Lasso\n",
    "\n",
    "lin_final_exp = Lasso(alpha=0.0001,precompute=True, max_iter=10000,fit_intercept=False,\n",
    "            positive=True, random_state=9999, selection='random')\n",
    "lin_final_exp.fit(X_train, Y_train)\n",
    "\n",
    "print(lin_final_exp.score(X_train, Y_train))\n",
    "\n",
    "X_test = test[[\"x_bit_length\", \"x_hamming_weight\", \"modulus_limbs\"]]\n",
    "Y_test = test[\"final_exp_time\"]\n",
    "\n",
    "X_test = poly.fit_transform(X_test)\n",
    "\n",
    "print(lin_final_exp.score(X_test, Y_test))"
   ]
  },
  {
   "cell_type": "code",
   "execution_count": 7,
   "metadata": {},
   "outputs": [
    {
     "name": "stdout",
     "output_type": "stream",
     "text": [
      "0.779 * x_bits^1 * limbs^1 + 2.45 * x_hamming^1 * limbs^1 + 53.569 * limbs^2 + 0.0 * x_bits^1 * x_hamming^1 * limbs^1 + 0.366 * x_bits^1 * limbs^2 + 0.617 * x_hamming^1 * limbs^2 + 4.893 * limbs^3 + 0.0 * x_bits^2 * x_hamming^1 * limbs^1 + 0.0 * x_bits^1 * x_hamming^1 * limbs^2 + 0.009 * x_bits^1 * limbs^3 + 0.042 * limbs^4 + 0.0 * x_bits^3 * x_hamming^1 * limbs^1 + 0.0 * x_bits^2 * x_hamming^1 * limbs^2 + 0.0 * x_bits^4 * x_hamming^1 * limbs^1 + 0.0 * x_bits^3 * x_hamming^1 * limbs^2\n"
     ]
    }
   ],
   "source": [
    "terms = []\n",
    "variable_names = [\"x_bits\", \"x_hamming\", \"limbs\"]\n",
    "\n",
    "for term_idx in range(0, poly.powers_.shape[0]):\n",
    "    coeff = lin_final_exp.coef_[term_idx]\n",
    "    if coeff == 0.0:\n",
    "        continue\n",
    "    coeff = np.around(coeff, decimals=3)\n",
    "    subparts = []\n",
    "    coeff_string = \"{}\".format(coeff)\n",
    "    subparts.append(coeff_string)\n",
    "    for variable_idx in range(0, poly.powers_.shape[1]):\n",
    "        power = poly.powers_[term_idx, variable_idx]\n",
    "        if power != 0:\n",
    "            term_string = '{}^{}'.format(variable_names[variable_idx], power)\n",
    "            subparts.append(term_string)\n",
    "    if len(subparts) != 0:\n",
    "        joined = \" * \".join(subparts)\n",
    "        terms.append(joined)\n",
    "                                                                                      \n",
    "polynomial_string = \" + \".join(terms)\n",
    "print(polynomial_string)"
   ]
  },
  {
   "cell_type": "code",
   "execution_count": 8,
   "metadata": {},
   "outputs": [
    {
     "name": "stdout",
     "output_type": "stream",
     "text": [
      "Model accuracy before manual truncation of coefficients\n",
      "26379.064345265804\n",
      "2907.0409246951854\n",
      "0.9326916180481006\n"
     ]
    }
   ],
   "source": [
    "from sklearn.metrics import max_error, mean_absolute_error, r2_score\n",
    "\n",
    "y_true = Y_test\n",
    "y_pred = lin_final_exp.predict(X_test)\n",
    "\n",
    "print(\"Model accuracy before manual truncation of coefficients\")\n",
    "print(max_error(y_true, y_pred))\n",
    "print(mean_absolute_error(y_true, y_pred))\n",
    "print(r2_score(y_true, y_pred))"
   ]
  },
  {
   "cell_type": "markdown",
   "metadata": {},
   "source": [
    "Actually filter coefficients and recheck"
   ]
  },
  {
   "cell_type": "code",
   "execution_count": 9,
   "metadata": {},
   "outputs": [
    {
     "name": "stdout",
     "output_type": "stream",
     "text": [
      "Model accuracy after manual truncation of coefficients\n",
      "26443.504134705196\n",
      "2915.5196052459023\n",
      "0.9327999499182335\n"
     ]
    }
   ],
   "source": [
    "trunc_limit = 0.001\n",
    "\n",
    "coeffs = lin_final_exp.coef_.copy()\n",
    "for k in range(0, coeffs.shape[0]):\n",
    "    c = coeffs[k]\n",
    "    if c < trunc_limit:\n",
    "        coeffs[k] = 0.0\n",
    "\n",
    "lin_final_exp.coef_ = coeffs\n",
    "\n",
    "y_true = Y_test\n",
    "y_pred = lin_final_exp.predict(X_test)\n",
    "\n",
    "print(\"Model accuracy after manual truncation of coefficients\")\n",
    "print(max_error(y_true, y_pred))\n",
    "print(mean_absolute_error(y_true, y_pred))\n",
    "print(r2_score(y_true, y_pred))"
   ]
  },
  {
   "cell_type": "code",
   "execution_count": 10,
   "metadata": {},
   "outputs": [
    {
     "name": "stdout",
     "output_type": "stream",
     "text": [
      "0.779 * x_bits^1 * limbs^1 + 2.45 * x_hamming^1 * limbs^1 + 53.569 * limbs^2 + 0.366 * x_bits^1 * limbs^2 + 0.617 * x_hamming^1 * limbs^2 + 4.893 * limbs^3 + 0.009 * x_bits^1 * limbs^3 + 0.042 * limbs^4\n"
     ]
    }
   ],
   "source": [
    "terms = []\n",
    "variable_names = [\"x_bits\", \"x_hamming\", \"limbs\"]\n",
    "\n",
    "for term_idx in range(0, poly.powers_.shape[0]):\n",
    "    coeff = lin_final_exp.coef_[term_idx]\n",
    "    if coeff == 0.0:\n",
    "        continue\n",
    "    coeff = np.around(coeff, decimals=3)\n",
    "    subparts = []\n",
    "    coeff_string = \"{}\".format(coeff)\n",
    "    subparts.append(coeff_string)\n",
    "    for variable_idx in range(0, poly.powers_.shape[1]):\n",
    "        power = poly.powers_[term_idx, variable_idx]\n",
    "        if power != 0:\n",
    "            term_string = '{}^{}'.format(variable_names[variable_idx], power)\n",
    "            subparts.append(term_string)\n",
    "    if len(subparts) != 0:\n",
    "        joined = \" * \".join(subparts)\n",
    "        terms.append(joined)\n",
    "                                                                                      \n",
    "polynomial_string = \" + \".join(terms)\n",
    "print(polynomial_string)"
   ]
  },
  {
   "cell_type": "markdown",
   "metadata": {},
   "source": [
    "Fit Miller loop cost per one pair"
   ]
  },
  {
   "cell_type": "code",
   "execution_count": 11,
   "metadata": {},
   "outputs": [
    {
     "name": "stdout",
     "output_type": "stream",
     "text": [
      "Train set size 4498\n",
      "Test set size 500\n"
     ]
    },
    {
     "data": {
      "text/html": [
       "<div>\n",
       "<style scoped>\n",
       "    .dataframe tbody tr th:only-of-type {\n",
       "        vertical-align: middle;\n",
       "    }\n",
       "\n",
       "    .dataframe tbody tr th {\n",
       "        vertical-align: top;\n",
       "    }\n",
       "\n",
       "    .dataframe thead th {\n",
       "        text-align: right;\n",
       "    }\n",
       "</style>\n",
       "<table border=\"1\" class=\"dataframe\">\n",
       "  <thead>\n",
       "    <tr style=\"text-align: right;\">\n",
       "      <th></th>\n",
       "      <th>x_bit_length</th>\n",
       "      <th>x_hamming_weight</th>\n",
       "      <th>modulus_limbs</th>\n",
       "      <th>single_pair_miller_time</th>\n",
       "    </tr>\n",
       "  </thead>\n",
       "  <tbody>\n",
       "    <tr>\n",
       "      <th>505</th>\n",
       "      <td>109.0</td>\n",
       "      <td>1.0</td>\n",
       "      <td>10.0</td>\n",
       "      <td>5760.75</td>\n",
       "    </tr>\n",
       "    <tr>\n",
       "      <th>14821</th>\n",
       "      <td>7.0</td>\n",
       "      <td>4.0</td>\n",
       "      <td>4.0</td>\n",
       "      <td>342.25</td>\n",
       "    </tr>\n",
       "    <tr>\n",
       "      <th>16819</th>\n",
       "      <td>73.0</td>\n",
       "      <td>51.0</td>\n",
       "      <td>6.0</td>\n",
       "      <td>1591.00</td>\n",
       "    </tr>\n",
       "    <tr>\n",
       "      <th>29917</th>\n",
       "      <td>51.0</td>\n",
       "      <td>9.0</td>\n",
       "      <td>16.0</td>\n",
       "      <td>11891.50</td>\n",
       "    </tr>\n",
       "    <tr>\n",
       "      <th>29539</th>\n",
       "      <td>119.0</td>\n",
       "      <td>93.0</td>\n",
       "      <td>6.0</td>\n",
       "      <td>2468.50</td>\n",
       "    </tr>\n",
       "  </tbody>\n",
       "</table>\n",
       "</div>"
      ],
      "text/plain": [
       "       x_bit_length  x_hamming_weight  modulus_limbs  single_pair_miller_time\n",
       "505           109.0               1.0           10.0                  5760.75\n",
       "14821           7.0               4.0            4.0                   342.25\n",
       "16819          73.0              51.0            6.0                  1591.00\n",
       "29917          51.0               9.0           16.0                 11891.50\n",
       "29539         119.0              93.0            6.0                  2468.50"
      ]
     },
     "execution_count": 11,
     "metadata": {},
     "output_type": "execute_result"
    }
   ],
   "source": [
    "from sklearn.model_selection import train_test_split\n",
    "\n",
    "train, test = train_test_split(\n",
    "    df_miller_loops, test_size=0.10, random_state=42)\n",
    "\n",
    "print(\"Train set size {}\".format(len(train)))\n",
    "print(\"Test set size {}\".format(len(test)))\n",
    "\n",
    "test.head(5)"
   ]
  },
  {
   "cell_type": "code",
   "execution_count": 12,
   "metadata": {},
   "outputs": [
    {
     "name": "stdout",
     "output_type": "stream",
     "text": [
      "0.9648838381664456\n",
      "0.9661940769037191\n"
     ]
    }
   ],
   "source": [
    "from sklearn import linear_model\n",
    "\n",
    "poly = PolynomialFeatures(degree=6, include_bias = False)\n",
    "\n",
    "X_train = train[[\"x_bit_length\", \"x_hamming_weight\", \"modulus_limbs\"]]\n",
    "Y_train = train[\"single_pair_miller_time\"]\n",
    "\n",
    "X_train = poly.fit_transform(X_train)\n",
    "\n",
    "from sklearn import linear_model\n",
    "from sklearn.linear_model import Lasso\n",
    "\n",
    "lin_miller = Lasso(alpha=0.0001,precompute=True, max_iter=10000,fit_intercept=False,\n",
    "            positive=True, random_state=9999, selection='random')\n",
    "lin_miller.fit(X_train, Y_train)\n",
    "\n",
    "print(lin_miller.score(X_train, Y_train))\n",
    "\n",
    "X_test = test[[\"x_bit_length\", \"x_hamming_weight\", \"modulus_limbs\"]]\n",
    "Y_test = test[\"single_pair_miller_time\"]\n",
    "\n",
    "X_test = poly.fit_transform(X_test)\n",
    "\n",
    "print(lin_miller.score(X_test, Y_test))"
   ]
  },
  {
   "cell_type": "code",
   "execution_count": 13,
   "metadata": {},
   "outputs": [
    {
     "name": "stdout",
     "output_type": "stream",
     "text": [
      "Model accuracy before manual truncation of coefficients\n",
      "6502.743952440023\n",
      "806.715092693171\n",
      "0.9661940769037191\n"
     ]
    }
   ],
   "source": [
    "from sklearn.metrics import max_error, mean_absolute_error, r2_score\n",
    "\n",
    "y_true = Y_test\n",
    "y_pred = lin_miller.predict(X_test)\n",
    "\n",
    "print(\"Model accuracy before manual truncation of coefficients\")\n",
    "print(max_error(y_true, y_pred))\n",
    "print(mean_absolute_error(y_true, y_pred))\n",
    "print(r2_score(y_true, y_pred))"
   ]
  },
  {
   "cell_type": "code",
   "execution_count": 14,
   "metadata": {},
   "outputs": [
    {
     "name": "stdout",
     "output_type": "stream",
     "text": [
      "0.237 * x_bits^1 * limbs^1 + 0.143 * x_hamming^1 * limbs^1 + 22.11 * limbs^2 + 0.0 * x_bits^2 * limbs^1 + 0.0 * x_bits^1 * x_hamming^1 * limbs^1 + 0.162 * x_bits^1 * limbs^2 + 0.002 * x_hamming^2 * limbs^1 + 0.169 * x_hamming^1 * limbs^2 + 2.074 * limbs^3 + 0.023 * limbs^4 + 0.0 * x_bits^6 + 0.0 * x_bits^5 * limbs^1\n"
     ]
    }
   ],
   "source": [
    "terms = []\n",
    "variable_names = [\"x_bits\", \"x_hamming\", \"limbs\"]\n",
    "\n",
    "for term_idx in range(0, poly.powers_.shape[0]):\n",
    "    coeff = lin_miller.coef_[term_idx]\n",
    "    if coeff == 0:\n",
    "        continue\n",
    "    coeff = np.around(coeff, decimals=3)\n",
    "    subparts = []\n",
    "    coeff_string = \"{}\".format(coeff)\n",
    "    subparts.append(coeff_string)\n",
    "    for variable_idx in range(0, poly.powers_.shape[1]):\n",
    "        power = poly.powers_[term_idx, variable_idx]\n",
    "        if power != 0:\n",
    "            term_string = '{}^{}'.format(variable_names[variable_idx], power)\n",
    "            subparts.append(term_string)\n",
    "    if len(subparts) != 0:\n",
    "        joined = \" * \".join(subparts)\n",
    "        terms.append(joined)\n",
    "                                                                                      \n",
    "polynomial_string = \" + \".join(terms)\n",
    "print(polynomial_string)"
   ]
  },
  {
   "cell_type": "markdown",
   "metadata": {},
   "source": [
    "Filter small coefficients and recheck"
   ]
  },
  {
   "cell_type": "code",
   "execution_count": 15,
   "metadata": {},
   "outputs": [
    {
     "name": "stdout",
     "output_type": "stream",
     "text": [
      "Model accuracy after manual truncation of coefficients\n",
      "6502.235071679888\n",
      "806.4619844764101\n",
      "0.9661922887203355\n"
     ]
    }
   ],
   "source": [
    "trunc_limit = 0.001\n",
    "\n",
    "coeffs = lin_miller.coef_.copy()\n",
    "for k in range(0, coeffs.shape[0]):\n",
    "    c = coeffs[k]\n",
    "    if c < trunc_limit:\n",
    "        coeffs[k] = 0.0\n",
    "\n",
    "lin_miller.coef_ = coeffs\n",
    "\n",
    "y_true = Y_test\n",
    "y_pred = lin_miller.predict(X_test)\n",
    "\n",
    "print(\"Model accuracy after manual truncation of coefficients\")\n",
    "print(max_error(y_true, y_pred))\n",
    "print(mean_absolute_error(y_true, y_pred))\n",
    "print(r2_score(y_true, y_pred))"
   ]
  },
  {
   "cell_type": "code",
   "execution_count": 16,
   "metadata": {},
   "outputs": [
    {
     "name": "stdout",
     "output_type": "stream",
     "text": [
      "0.237 * x_bits^1 * limbs^1 + 0.143 * x_hamming^1 * limbs^1 + 22.11 * limbs^2 + 0.162 * x_bits^1 * limbs^2 + 0.002 * x_hamming^2 * limbs^1 + 0.169 * x_hamming^1 * limbs^2 + 2.074 * limbs^3 + 0.023 * limbs^4\n"
     ]
    }
   ],
   "source": [
    "terms = []\n",
    "variable_names = [\"x_bits\", \"x_hamming\", \"limbs\"]\n",
    "\n",
    "for term_idx in range(0, poly.powers_.shape[0]):\n",
    "    coeff = lin_miller.coef_[term_idx]\n",
    "    if coeff == 0:\n",
    "        continue\n",
    "    coeff = np.around(coeff, decimals=3)\n",
    "    subparts = []\n",
    "    coeff_string = \"{}\".format(coeff)\n",
    "    subparts.append(coeff_string)\n",
    "    for variable_idx in range(0, poly.powers_.shape[1]):\n",
    "        power = poly.powers_[term_idx, variable_idx]\n",
    "        if power != 0:\n",
    "            term_string = '{}^{}'.format(variable_names[variable_idx], power)\n",
    "            subparts.append(term_string)\n",
    "    if len(subparts) != 0:\n",
    "        joined = \" * \".join(subparts)\n",
    "        terms.append(joined)\n",
    "                                                                                      \n",
    "polynomial_string = \" + \".join(terms)\n",
    "print(polynomial_string)"
   ]
  },
  {
   "cell_type": "code",
   "execution_count": null,
   "metadata": {},
   "outputs": [],
   "source": []
  }
 ],
 "metadata": {
  "kernelspec": {
   "display_name": "Python 3",
   "language": "python",
   "name": "python3"
  },
  "language_info": {
   "codemirror_mode": {
    "name": "ipython",
    "version": 3
   },
   "file_extension": ".py",
   "mimetype": "text/x-python",
   "name": "python",
   "nbconvert_exporter": "python",
   "pygments_lexer": "ipython3",
   "version": "3.7.3"
  }
 },
 "nbformat": 4,
 "nbformat_minor": 2
}
